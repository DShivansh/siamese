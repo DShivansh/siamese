{
 "cells": [
  {
   "cell_type": "code",
   "execution_count": 2,
   "metadata": {
    "scrolled": true
   },
   "outputs": [
    {
     "ename": "ModuleNotFoundError",
     "evalue": "No module named 'fastai.conv_learner'",
     "output_type": "error",
     "traceback": [
      "\u001b[0;31m---------------------------------------------------------------------------\u001b[0m",
      "\u001b[0;31mModuleNotFoundError\u001b[0m                       Traceback (most recent call last)",
      "\u001b[0;32m<ipython-input-2-02beb625e4fe>\u001b[0m in \u001b[0;36m<module>\u001b[0;34m()\u001b[0m\n\u001b[0;32m----> 1\u001b[0;31m \u001b[0;32mfrom\u001b[0m \u001b[0mfastai\u001b[0m\u001b[0;34m.\u001b[0m\u001b[0mconv_learner\u001b[0m \u001b[0;32mimport\u001b[0m \u001b[0;34m*\u001b[0m\u001b[0;34m\u001b[0m\u001b[0m\n\u001b[0m",
      "\u001b[0;31mModuleNotFoundError\u001b[0m: No module named 'fastai.conv_learner'"
     ]
    }
   ],
   "source": [
    "from fastai.conv_learner import *"
   ]
  },
  {
   "cell_type": "code",
   "execution_count": 1,
   "metadata": {},
   "outputs": [],
   "source": [
    "import os"
   ]
  },
  {
   "cell_type": "code",
   "execution_count": 3,
   "metadata": {},
   "outputs": [
    {
     "data": {
      "text/plain": [
       "['genuine', 'Untitled.ipynb', 'forged', 'README.txt.txt', '.ipynb_checkpoints']"
      ]
     },
     "execution_count": 3,
     "metadata": {},
     "output_type": "execute_result"
    }
   ],
   "source": [
    "os.listdir()"
   ]
  },
  {
   "cell_type": "code",
   "execution_count": 20,
   "metadata": {},
   "outputs": [
    {
     "name": "stdout",
     "output_type": "stream",
     "text": [
      "['NFI-01101011.png', 'NFI-00603006.png', 'NFI-01302013.png', 'NFI-01905019.png', 'NFI-02003020.png', 'NFI-01805018.png', 'NFI-02103021.png', 'NFI-01202012.png', 'NFI-01001010.png', 'NFI-00703007.png', 'NFI-00901009.png', 'NFI-02705027.PNG', 'NFI-01404014.png', 'NFI-00105001.png', 'NFI-01504015.png', 'NFI-00801008.png', 'NFI-02605026.PNG', 'NFI-01605016.png', 'NFI-00304003.png', 'NFI-00903009.png', 'NFI-03005030.PNG', 'NFI-02504025.PNG', 'NFI-02404024.png', 'NFI-00803008.png', 'NFI-00204002.png', 'NFI-01705017.png', 'NFI-02202022.png', 'NFI-02001020.png', 'NFI-00402004.png', 'NFI-01103011.png', 'NFI-00601006.png', 'NFI-02805028.PNG', 'NFI-01003010.png', 'NFI-00701007.png', 'NFI-02905029.PNG', 'NFI-00502005.png', 'NFI-02101021.png', 'NFI-02302023.png', 'NFI-01502015.png', 'NFI-01701017.png', 'NFI-02603026.PNG', 'NFI-03001030.PNG', 'NFI-02703027.PNG', 'NFI-01601016.png', 'NFI-00103001.png', 'NFI-01402014.png', 'NFI-01803018.png', 'NFI-02105021.png', 'NFI-00705007.png', 'NFI-02901029.PNG', 'NFI-01204012.png', 'NFI-01304013.png', 'NFI-00605006.png', 'NFI-02801028.PNG', 'NFI-01903019.png', 'NFI-02005020.png', 'NFI-00504005.png', 'NFI-01005010.png', 'NFI-02903029.PNG', 'NFI-02304023.png', 'NFI-01801018.png', 'NFI-01901019.png', 'NFI-02204022.png', 'NFI-01105011.png', 'NFI-02803028.PNG', 'NFI-00404004.png', 'NFI-00805008.png', 'NFI-02601026.PNG', 'NFI-02402024.png', 'NFI-01703017.png', 'NFI-00202002.png', 'NFI-00302003.png', 'NFI-01603016.png', 'NFI-00101001.png', 'NFI-02502025.PNG', 'NFI-00905009.png', 'NFI-03003030.PNG', 'NFI-02701027.PNG', 'NFI-01505015.png', 'NFI-02604026.PNG', 'NFI-02704027.PNG', 'NFI-00104001.png', 'NFI-01405014.png', 'NFI-01804018.png', 'NFI-02102021.png', 'NFI-02301023.png', 'NFI-00702007.png', 'NFI-01203012.png', 'NFI-00501005.png', 'NFI-01303013.png', 'NFI-00401004.png', 'NFI-00602006.png', 'NFI-02201022.png', 'NFI-01904019.png', 'NFI-02002020.png', 'NFI-01201012.png', 'NFI-00503005.png', 'NFI-01002010.png', 'NFI-02904029.PNG', 'NFI-02303023.png', 'NFI-02203022.png', 'NFI-01102011.png', 'NFI-02804028.PNG', 'NFI-01301013.png', 'NFI-00403004.png', 'NFI-00802008.png', 'NFI-02405024.png', 'NFI-01704017.png', 'NFI-00205002.png', 'NFI-00305003.png', 'NFI-01604016.png', 'NFI-02505025.PNG', 'NFI-00902009.png', 'NFI-03004030.PNG', 'NFI-00604006.png', 'NFI-01305013.png', 'NFI-01902019.png', 'NFI-02004020.png', 'NFI-01802018.png', 'NFI-02104021.png', 'NFI-01205012.png', 'NFI-00704007.png', 'NFI-02501025.PNG', 'NFI-02702027.PNG', 'NFI-01403014.png', 'NFI-00301003.png', 'NFI-00102001.png', 'NFI-01503015.png', 'NFI-00201002.png', 'NFI-02602026.PNG', 'NFI-02401024.png', 'NFI-01602016.png', 'NFI-01401014.png', 'NFI-00303003.png', 'NFI-00904009.png', 'NFI-03002030.PNG', 'NFI-02503025.PNG', 'NFI-02403024.png', 'NFI-00804008.png', 'NFI-01501015.png', 'NFI-00203002.png', 'NFI-01702017.png', 'NFI-02205022.png', 'NFI-00405004.png', 'NFI-01104011.png', 'NFI-02802028.PNG', 'NFI-01004010.png', 'NFI-02902029.PNG', 'NFI-00505005.png', 'NFI-02305023.png']\n"
     ]
    }
   ],
   "source": [
    "for i in os.walk(os.listdir()[0]):\n",
    "    print((i[2]))"
   ]
  },
  {
   "cell_type": "code",
   "execution_count": 27,
   "metadata": {},
   "outputs": [
    {
     "data": {
      "text/plain": [
       "'011'"
      ]
     },
     "execution_count": 27,
     "metadata": {},
     "output_type": "execute_result"
    }
   ],
   "source": [
    "((os.listdir('genuine/')[0]).split(\"-\")[1]).split(\".\")[0][:3]"
   ]
  },
  {
   "cell_type": "code",
   "execution_count": 43,
   "metadata": {},
   "outputs": [],
   "source": [
    "directories = []"
   ]
  },
  {
   "cell_type": "code",
   "execution_count": 44,
   "metadata": {},
   "outputs": [],
   "source": [
    "for i in os.listdir('forged/'):\n",
    "    a = (i.split(\"-\")[1]).split(\".\")[0][:3]\n",
    "    appendable = (\"forged/{}\".format(a))\n",
    "    directories.append(appendable)"
   ]
  },
  {
   "cell_type": "code",
   "execution_count": 45,
   "metadata": {},
   "outputs": [],
   "source": [
    "directories = set(directories)"
   ]
  },
  {
   "cell_type": "code",
   "execution_count": 46,
   "metadata": {},
   "outputs": [],
   "source": [
    "for i in directories:\n",
    "    os.mkdir(i)"
   ]
  },
  {
   "cell_type": "code",
   "execution_count": 47,
   "metadata": {},
   "outputs": [],
   "source": [
    "import shutil"
   ]
  },
  {
   "cell_type": "code",
   "execution_count": 48,
   "metadata": {},
   "outputs": [],
   "source": [
    "for i in os.listdir('forged/'):\n",
    "    if len(i) > 3:\n",
    "        a = (i.split(\"-\")[1]).split(\".\")[0][:3]\n",
    "\n",
    "        shutil.move('forged/{}'.format(i), 'forged/{}/{}'.format(a, i))"
   ]
  },
  {
   "cell_type": "code",
   "execution_count": null,
   "metadata": {},
   "outputs": [],
   "source": []
  }
 ],
 "metadata": {
  "kernelspec": {
   "display_name": "Python 3",
   "language": "python",
   "name": "python3"
  },
  "language_info": {
   "codemirror_mode": {
    "name": "ipython",
    "version": 3
   },
   "file_extension": ".py",
   "mimetype": "text/x-python",
   "name": "python",
   "nbconvert_exporter": "python",
   "pygments_lexer": "ipython3",
   "version": "3.6.5"
  }
 },
 "nbformat": 4,
 "nbformat_minor": 2
}
